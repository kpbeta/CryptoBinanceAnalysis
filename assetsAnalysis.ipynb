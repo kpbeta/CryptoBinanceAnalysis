{
 "cells": [
  {
   "cell_type": "code",
   "execution_count": 21,
   "metadata": {},
   "outputs": [],
   "source": [
    "import pandas as pd\n",
    "buy_trades = pd.read_json('data/buy_trades_dec1.json', lines=True,)\n",
    "sell_trades = pd.read_json('data/sell_trades_dec1.json', lines=True)"
   ]
  },
  {
   "cell_type": "code",
   "execution_count": 22,
   "metadata": {},
   "outputs": [],
   "source": [
    "buy_trades.sort_values(by=[\"timestamp\"], ascending=False, inplace=True)\n",
    "buy_trades.drop_duplicates(subset=[\"advNo\"], keep='first', inplace=True)\n",
    "sell_trades.sort_values(by=[\"timestamp\"], ascending=False, inplace=True)\n",
    "sell_trades.drop_duplicates(subset=[\"advNo\"], keep='first', inplace=True)"
   ]
  },
  {
   "cell_type": "code",
   "execution_count": 23,
   "metadata": {},
   "outputs": [],
   "source": [
    "sell_trades = sell_trades[sell_trades[\"timestamp\"] > pd.to_datetime('2022-11-15 11:59:59')]\n",
    "buy_trades = buy_trades[buy_trades[\"timestamp\"] > pd.to_datetime('2022-11-15 11:59:59')]"
   ]
  },
  {
   "cell_type": "code",
   "execution_count": 24,
   "metadata": {},
   "outputs": [],
   "source": [
    "sell_trades[\"tradableVolumeInPrice\"] = sell_trades[\"tradableQuantity\"] * sell_trades[\"price\"]\n",
    "sell_trades[\"averageSingleTransAmount\"] = sell_trades[\"maxSingleTransAmount\"]-sell_trades[\"minSingleTransAmount\"]\n",
    "buy_trades[\"tradableVolumeInPrice\"] = buy_trades[\"tradableQuantity\"] * buy_trades[\"price\"]\n",
    "buy_trades[\"averageSingleTransAmount\"] = buy_trades[\"maxSingleTransAmount\"]-buy_trades[\"minSingleTransAmount\"]\n"
   ]
  },
  {
   "cell_type": "code",
   "execution_count": 25,
   "metadata": {},
   "outputs": [],
   "source": [
    "st = sell_trades[[\"asset\", \"price\", \"minSingleTransAmount\", \"maxSingleTransAmount\",\n",
    " \"tradableQuantity\", \"price\", \"tradableVolumeInPrice\", \"averageSingleTransAmount\"]]\n",
    "s = st.groupby([\"asset\"]).mean()\n",
    "bt = buy_trades[[\"asset\", \"price\", \"minSingleTransAmount\", \"maxSingleTransAmount\",\n",
    " \"tradableQuantity\", \"price\", \"tradableVolumeInPrice\", \"averageSingleTransAmount\"]]\n",
    "b = bt.groupby([\"asset\"]).mean()"
   ]
  },
  {
   "cell_type": "code",
   "execution_count": 26,
   "metadata": {},
   "outputs": [],
   "source": [
    "sc = sell_trades[[\"_id\", \"asset\"]].groupby([\"asset\"]).count()\n",
    "bc = buy_trades[[\"_id\", \"asset\"]].groupby([\"asset\"]).count()"
   ]
  },
  {
   "cell_type": "code",
   "execution_count": 27,
   "metadata": {},
   "outputs": [],
   "source": [
    "sc.rename({\"_id\": \"sell_count\"}, axis=1, inplace=True)\n",
    "bc.rename({\"_id\": \"buy_count\"}, axis=1, inplace=True)\n",
    "\n",
    "sn = s.rename({\"price\": \"sell_price\",\n",
    " \"minSingleTransAmount\": \"sell_minSingleTransAmount\", \n",
    " \"maxSingleTransAmount\": \"sell_maxSingleTransAmount\",\n",
    " \"tradableQuantity\": \"sell_tradableQuantity\",\n",
    " \"price\": \"sell_price\",\n",
    " \"tradableVolumeInPrice\": \"sell_tradableVolumeInPrice\", \n",
    " \"averageSingleTransAmount\": \"sell_averageSingleTransAmount\"}, axis=1, inplace=False)\n",
    "bn = b.rename({\"price\": \"buy_price\",\n",
    " \"minSingleTransAmount\": \"buy_minSingleTransAmount\", \n",
    " \"maxSingleTransAmount\": \"buy_maxSingleTransAmount\",\n",
    " \"tradableQuantity\": \"buy_tradableQuantity\",\n",
    " \"price\": \"buy_price\",\n",
    " \"tradableVolumeInPrice\": \"buy_tradableVolumeInPrice\", \n",
    " \"averageSingleTransAmount\": \"buy_averageSingleTransAmount\"}, axis=1, inplace=False)"
   ]
  },
  {
   "cell_type": "code",
   "execution_count": 28,
   "metadata": {},
   "outputs": [],
   "source": [
    "fin = pd.merge(sc, bc, on=[\"asset\"], how=\"outer\")\n",
    "fin2 = pd.merge(sn, bn, on=[\"asset\"], how=\"outer\")\n",
    "\n",
    "fina = pd.merge(fin, fin2, on=[\"asset\"], how=\"outer\")\n"
   ]
  },
  {
   "cell_type": "code",
   "execution_count": 29,
   "metadata": {},
   "outputs": [],
   "source": [
    "fina.to_csv(\"csv/averages_on_assets_post_nov_15.csv\")\n"
   ]
  }
 ],
 "metadata": {
  "kernelspec": {
   "display_name": "Python 3.9.15 ('crypto')",
   "language": "python",
   "name": "python3"
  },
  "language_info": {
   "codemirror_mode": {
    "name": "ipython",
    "version": 3
   },
   "file_extension": ".py",
   "mimetype": "text/x-python",
   "name": "python",
   "nbconvert_exporter": "python",
   "pygments_lexer": "ipython3",
   "version": "3.9.15"
  },
  "orig_nbformat": 4,
  "vscode": {
   "interpreter": {
    "hash": "a899561b007cada81879fea1f8a69be36f8d63c6bc7403b37308073809a1efce"
   }
  }
 },
 "nbformat": 4,
 "nbformat_minor": 2
}
