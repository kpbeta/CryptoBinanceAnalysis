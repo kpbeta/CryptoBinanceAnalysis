{
 "cells": [
  {
   "cell_type": "code",
   "execution_count": 1,
   "metadata": {},
   "outputs": [],
   "source": [
    "import pandas as pd\n",
    "advertisers = pd.read_json('data/advertisers_dec1.json', lines=True)"
   ]
  },
  {
   "cell_type": "code",
   "execution_count": 2,
   "metadata": {},
   "outputs": [],
   "source": [
    "adv = pd.concat(\n",
    "    [pd.json_normalize(advertisers[\"userDetailVo\"], sep=\"_\", max_level=None),\n",
    "    pd.json_normalize(advertisers[\"feedback\"], sep=\"_\", max_level=None)],\n",
    "    axis=1)\n",
    "adv[\"timestamp\"] = advertisers[\"timestamp\"]\n",
    "adv.sort_values(by=[\"timestamp\"], ascending=False, inplace=True)\n",
    "adv.drop_duplicates(subset='userNo', keep='first', inplace=True); # unique Users"
   ]
  },
  {
   "cell_type": "code",
   "execution_count": 3,
   "metadata": {},
   "outputs": [],
   "source": [
    "adv['netRate'] = adv['positiveRate'] - adv['negativeRate']"
   ]
  },
  {
   "cell_type": "code",
   "execution_count": 4,
   "metadata": {},
   "outputs": [],
   "source": [
    "pos_bins = [-0.01, 0.01, 0.1, 0.5, 0.75, 0.80, 0.85, 0.90, 0.91, 0.92, 0.93, 0.94, 0.95, 0.96, 0.97, 0.98, 0.99, 1.00]\n",
    "bin_labels = [0, 0.01, 0.1, 0.5, 0.75, 0.80, 0.85, 0.90, 0.91, 0.92, 0.93, 0.94, 0.95, 0.96, 0.97, 0.98, 0.99]"
   ]
  },
  {
   "cell_type": "code",
   "execution_count": 5,
   "metadata": {},
   "outputs": [],
   "source": [
    "adv['pos_bin'] = pd.cut(adv['positiveRate'], pos_bins)\n",
    "adv['neg_bin'] = pd.cut(adv['negativeRate'], pos_bins)\n",
    "adv['net_bin'] = pd.cut(adv['netRate'], pos_bins)\n",
    "adv['pos_bin_label'] = pd.cut(adv['positiveRate'], pos_bins, labels=bin_labels)\n",
    "adv['neg_bin_label'] = pd.cut(adv['negativeRate'], pos_bins, labels=bin_labels)\n",
    "adv['net_bin_label'] = pd.cut(adv['netRate'], pos_bins, labels=bin_labels)"
   ]
  },
  {
   "cell_type": "code",
   "execution_count": 13,
   "metadata": {},
   "outputs": [
    {
     "name": "stderr",
     "output_type": "stream",
     "text": [
      "/var/folders/s7/cbvrkwmd5vj_3ymczzxpsc940000gn/T/ipykernel_18492/4271574207.py:1: FutureWarning: The default value of numeric_only in DataFrameGroupBy.mean is deprecated. In a future version, numeric_only will default to False. Either specify numeric_only or select only columns which should be valid for the function.\n",
      "  pos = adv[[\"pos_bin_label\", \"pos_bin\", \"userStatsRet_finishRateLatest30day\", \"userStatsRet_avgPayTimeOfLatest30day\",\n",
      "/var/folders/s7/cbvrkwmd5vj_3ymczzxpsc940000gn/T/ipykernel_18492/4271574207.py:4: FutureWarning: The default value of numeric_only in DataFrameGroupBy.mean is deprecated. In a future version, numeric_only will default to False. Either specify numeric_only or select only columns which should be valid for the function.\n",
      "  neg = adv[[\"neg_bin_label\", \"neg_bin\", \"userStatsRet_finishRateLatest30day\", \"userStatsRet_avgPayTimeOfLatest30day\",\n",
      "/var/folders/s7/cbvrkwmd5vj_3ymczzxpsc940000gn/T/ipykernel_18492/4271574207.py:7: FutureWarning: The default value of numeric_only in DataFrameGroupBy.mean is deprecated. In a future version, numeric_only will default to False. Either specify numeric_only or select only columns which should be valid for the function.\n",
      "  net = adv[[\"net_bin_label\", \"net_bin\", \"userStatsRet_finishRateLatest30day\", \"userStatsRet_avgPayTimeOfLatest30day\",\n"
     ]
    }
   ],
   "source": [
    "pos = adv[[\"pos_bin_label\", \"pos_bin\", \"userStatsRet_finishRateLatest30day\", \"userStatsRet_avgPayTimeOfLatest30day\", \n",
    "\"userStatsRet_avgReleaseTimeOfLatest30day\", \"userStatsRet_completedOrderNum\", \"userStatsRet_completedBuyOrderNum\",\n",
    "\"userStatsRet_completedSellOrderNum\", \"userStatsRet_counterpartyCount\"]].groupby([\"pos_bin\"]).mean()\n",
    "neg = adv[[\"neg_bin_label\", \"neg_bin\", \"userStatsRet_finishRateLatest30day\", \"userStatsRet_avgPayTimeOfLatest30day\", \n",
    "\"userStatsRet_avgReleaseTimeOfLatest30day\", \"userStatsRet_completedOrderNum\", \"userStatsRet_completedBuyOrderNum\",\n",
    "\"userStatsRet_completedSellOrderNum\", \"userStatsRet_counterpartyCount\"]].groupby([\"neg_bin\"]).mean()\n",
    "net = adv[[\"net_bin_label\", \"net_bin\", \"userStatsRet_finishRateLatest30day\", \"userStatsRet_avgPayTimeOfLatest30day\", \n",
    "\"userStatsRet_avgReleaseTimeOfLatest30day\", \"userStatsRet_completedOrderNum\", \"userStatsRet_completedBuyOrderNum\",\n",
    "\"userStatsRet_completedSellOrderNum\", \"userStatsRet_counterpartyCount\"]].groupby([\"net_bin\"]).mean()"
   ]
  },
  {
   "cell_type": "code",
   "execution_count": 14,
   "metadata": {},
   "outputs": [],
   "source": [
    "pos.to_csv(\"csv/positive_ratings_avgs.csv\")\n",
    "neg.to_csv(\"csv/negative_ratings_avgs.csv\")\n",
    "net.to_csv(\"csv/net_ratings_avgs.csv\")"
   ]
  }
 ],
 "metadata": {
  "kernelspec": {
   "display_name": "Python 3.9.15 ('crypto')",
   "language": "python",
   "name": "python3"
  },
  "language_info": {
   "codemirror_mode": {
    "name": "ipython",
    "version": 3
   },
   "file_extension": ".py",
   "mimetype": "text/x-python",
   "name": "python",
   "nbconvert_exporter": "python",
   "pygments_lexer": "ipython3",
   "version": "3.9.15"
  },
  "orig_nbformat": 4,
  "vscode": {
   "interpreter": {
    "hash": "a899561b007cada81879fea1f8a69be36f8d63c6bc7403b37308073809a1efce"
   }
  }
 },
 "nbformat": 4,
 "nbformat_minor": 2
}
