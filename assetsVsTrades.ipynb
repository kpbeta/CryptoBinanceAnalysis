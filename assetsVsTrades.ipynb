{
 "cells": [
  {
   "cell_type": "code",
   "execution_count": 53,
   "metadata": {},
   "outputs": [],
   "source": [
    "import pandas as pd"
   ]
  },
  {
   "cell_type": "code",
   "execution_count": 54,
   "metadata": {},
   "outputs": [],
   "source": [
    "buy_trades = pd.read_json('data/buy_trades_dec1.json', lines=True,)\n",
    "sell_trades = pd.read_json('data/sell_trades_dec1.json', lines=True)"
   ]
  },
  {
   "cell_type": "code",
   "execution_count": 55,
   "metadata": {},
   "outputs": [
    {
     "name": "stdout",
     "output_type": "stream",
     "text": [
      "13052 45809\n"
     ]
    },
    {
     "data": {
      "text/html": [
       "<div>\n",
       "<style scoped>\n",
       "    .dataframe tbody tr th:only-of-type {\n",
       "        vertical-align: middle;\n",
       "    }\n",
       "\n",
       "    .dataframe tbody tr th {\n",
       "        vertical-align: top;\n",
       "    }\n",
       "\n",
       "    .dataframe thead th {\n",
       "        text-align: right;\n",
       "    }\n",
       "</style>\n",
       "<table border=\"1\" class=\"dataframe\">\n",
       "  <thead>\n",
       "    <tr style=\"text-align: right;\">\n",
       "      <th></th>\n",
       "      <th>timestamp</th>\n",
       "    </tr>\n",
       "    <tr>\n",
       "      <th>asset</th>\n",
       "      <th></th>\n",
       "    </tr>\n",
       "  </thead>\n",
       "  <tbody>\n",
       "    <tr>\n",
       "      <th>BNB</th>\n",
       "      <td>2022-11-16</td>\n",
       "    </tr>\n",
       "    <tr>\n",
       "      <th>BTC</th>\n",
       "      <td>2022-11-05</td>\n",
       "    </tr>\n",
       "    <tr>\n",
       "      <th>BUSD</th>\n",
       "      <td>2022-11-16</td>\n",
       "    </tr>\n",
       "    <tr>\n",
       "      <th>ETH</th>\n",
       "      <td>2022-11-16</td>\n",
       "    </tr>\n",
       "    <tr>\n",
       "      <th>USDT</th>\n",
       "      <td>2022-11-16</td>\n",
       "    </tr>\n",
       "  </tbody>\n",
       "</table>\n",
       "</div>"
      ],
      "text/plain": [
       "       timestamp\n",
       "asset           \n",
       "BNB   2022-11-16\n",
       "BTC   2022-11-05\n",
       "BUSD  2022-11-16\n",
       "ETH   2022-11-16\n",
       "USDT  2022-11-16"
      ]
     },
     "execution_count": 55,
     "metadata": {},
     "output_type": "execute_result"
    }
   ],
   "source": [
    "print(len(buy_trades), len(sell_trades))\n",
    "buy_trades[\"timestamp\"].min()\n",
    "buy_trades[[\"asset\", \"timestamp\"]].groupby([\"asset\"]).min()\n"
   ]
  },
  {
   "cell_type": "code",
   "execution_count": 56,
   "metadata": {},
   "outputs": [],
   "source": [
    "sell_trades = sell_trades[sell_trades[\"timestamp\"] > pd.to_datetime('2022-11-15 11:59:59')]\n",
    "buy_trades = buy_trades[buy_trades[\"timestamp\"] > pd.to_datetime('2022-11-15 11:59:59')]"
   ]
  },
  {
   "cell_type": "code",
   "execution_count": 57,
   "metadata": {},
   "outputs": [
    {
     "name": "stdout",
     "output_type": "stream",
     "text": [
      "12229 42266\n"
     ]
    }
   ],
   "source": [
    "print(len(buy_trades), len(sell_trades))"
   ]
  },
  {
   "cell_type": "code",
   "execution_count": 58,
   "metadata": {},
   "outputs": [],
   "source": [
    "buy_trades.sort_values(by=[\"timestamp\"], ascending=False, inplace=True)\n",
    "buy_trades.drop_duplicates(subset=[\"advNo\"], keep='first', inplace=True)\n",
    "sell_trades.sort_values(by=[\"timestamp\"], ascending=False, inplace=True)\n",
    "sell_trades.drop_duplicates(subset=[\"advNo\"], keep='first', inplace=True)\n"
   ]
  },
  {
   "cell_type": "code",
   "execution_count": 59,
   "metadata": {},
   "outputs": [
    {
     "ename": "TypeError",
     "evalue": "'Timestamp' object is not callable",
     "output_type": "error",
     "traceback": [
      "\u001b[0;31m---------------------------------------------------------------------------\u001b[0m",
      "\u001b[0;31mTypeError\u001b[0m                                 Traceback (most recent call last)",
      "Cell \u001b[0;32mIn[59], line 1\u001b[0m\n\u001b[0;32m----> 1\u001b[0m buy_trades[\u001b[39m\"\u001b[39;49m\u001b[39mtimestamp\u001b[39;49m\u001b[39m\"\u001b[39;49m]\u001b[39m.\u001b[39;49mmin()\u001b[39m.\u001b[39;49mmin(\u001b[39m1\u001b[39;49m, \u001b[39mTrue\u001b[39;49;00m, \u001b[39mNone\u001b[39;49;00m, [\u001b[39m\"\u001b[39;49m\u001b[39mtimestamp\u001b[39;49m\u001b[39m\"\u001b[39;49m])\n",
      "\u001b[0;31mTypeError\u001b[0m: 'Timestamp' object is not callable"
     ]
    }
   ],
   "source": [
    "buy_trades[\"timestamp\"].min().min(1, True, None, [\"timestamp\"])\n"
   ]
  },
  {
   "cell_type": "code",
   "execution_count": null,
   "metadata": {},
   "outputs": [],
   "source": [
    "st = sell_trades[[\"_id\", \"asset\"]].groupby([\"asset\"]).count()\n",
    "st.rename({\"_id\": \"sell_count\", \"asset\": \"sell_trades_asset\"}, axis=1, inplace=True)\n",
    "st.sort_values(by=[\"sell_count\"], ascending=False, inplace=True)\n",
    "st.to_csv(\"csv/sell_trades_asset_vs_count.csv\")\n"
   ]
  },
  {
   "cell_type": "code",
   "execution_count": null,
   "metadata": {},
   "outputs": [],
   "source": [
    "bt = buy_trades[[\"_id\", \"asset\"]].groupby([\"asset\"]).count()\n",
    "bt.rename({\"_id\": \"buy_count\", \"asset\": \"buy_trades_asset\"}, axis=1, inplace=True)\n",
    "bt.sort_values(by=[\"buy_count\"], ascending=False, inplace=True)\n",
    "bt.to_csv(\"csv/buy_trades_asset_vs_count.csv\")\n"
   ]
  },
  {
   "cell_type": "code",
   "execution_count": null,
   "metadata": {},
   "outputs": [],
   "source": [
    "st_price = sell_trades[[\"price\", \"asset\"]].groupby([\"asset\"]).mean()\n",
    "st_price.rename({\"price\": \"sell_avg_price\"}, axis=1, inplace=True)\n",
    "st_price.sort_values(by=[\"sell_avg_price\"], ascending=False, inplace=True)\n",
    "st_price.to_csv(\"csv/sell_trades_vs_average_price.csv\")"
   ]
  },
  {
   "cell_type": "code",
   "execution_count": null,
   "metadata": {},
   "outputs": [],
   "source": [
    "bt_price = buy_trades[[\"price\", \"asset\"]].groupby([\"asset\"]).mean()\n",
    "bt_price.rename({\"price\": \"buy_avg_price\"}, axis=1, inplace=True)\n",
    "bt_price.sort_values(by=[\"buy_avg_price\"], ascending=False, inplace=True)\n",
    "bt_price.to_csv(\"csv/buy_trades_vs_average_price.csv\")"
   ]
  },
  {
   "cell_type": "code",
   "execution_count": null,
   "metadata": {},
   "outputs": [],
   "source": [
    "all_assets = pd.merge(pd.merge(pd.merge(st,bt, on=[\"asset\"], how=\"outer\"), st_price, on=[\"asset\"], how=\"outer\"),\n",
    " bt_price, on=[\"asset\"],how=\"outer\")\n",
    "all_assets.to_csv('csv/all_assets_count_avg_price.csv')"
   ]
  }
 ],
 "metadata": {
  "kernelspec": {
   "display_name": "Python 3.9.15 ('crypto')",
   "language": "python",
   "name": "python3"
  },
  "language_info": {
   "codemirror_mode": {
    "name": "ipython",
    "version": 3
   },
   "file_extension": ".py",
   "mimetype": "text/x-python",
   "name": "python",
   "nbconvert_exporter": "python",
   "pygments_lexer": "ipython3",
   "version": "3.9.15"
  },
  "orig_nbformat": 4,
  "vscode": {
   "interpreter": {
    "hash": "a899561b007cada81879fea1f8a69be36f8d63c6bc7403b37308073809a1efce"
   }
  }
 },
 "nbformat": 4,
 "nbformat_minor": 2
}
