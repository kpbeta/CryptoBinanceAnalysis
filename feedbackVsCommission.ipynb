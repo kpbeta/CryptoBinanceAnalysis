{
 "cells": [
  {
   "cell_type": "code",
   "execution_count": 16,
   "metadata": {},
   "outputs": [],
   "source": [
    "import pandas as pd\n",
    "advertisers = pd.read_json('data/btertisers_dec1.json', lines=True)"
   ]
  },
  {
   "cell_type": "code",
   "execution_count": 17,
   "metadata": {},
   "outputs": [],
   "source": [
    "buy_trades = pd.read_json('data/buy_trades_dec1.json', lines=True,)\n",
    "sell_trades = pd.read_json('data/sell_trades_dec1.json', lines=True)"
   ]
  },
  {
   "cell_type": "code",
   "execution_count": 18,
   "metadata": {},
   "outputs": [
    {
     "name": "stdout",
     "output_type": "stream",
     "text": [
      "13052 45809 30164\n"
     ]
    }
   ],
   "source": [
    "print(len(buy_trades), len(sell_trades), len(btertisers))"
   ]
  },
  {
   "cell_type": "code",
   "execution_count": 19,
   "metadata": {},
   "outputs": [],
   "source": [
    "bt = pd.concat(\n",
    "    [pd.json_normalize(btertisers[\"userDetailVo\"], sep=\"_\", max_level=None),\n",
    "    pd.json_normalize(btertisers[\"feedback\"], sep=\"_\", max_level=None)],\n",
    "    axis=1)\n",
    "bt[\"timestamp\"] = btertisers[\"timestamp\"]\n",
    "bt.sort_values(by=[\"timestamp\"], ascending=False, inplace=True)\n",
    "bt.drop_duplicates(subset='userNo', keep='first', inplace=True); # unique Users"
   ]
  },
  {
   "cell_type": "code",
   "execution_count": 20,
   "metadata": {},
   "outputs": [],
   "source": [
    "buy_trades.sort_values(by=[\"timestamp\"], ascending=False, inplace=True)\n",
    "buy_trades.drop_duplicates(subset=[\"btNo\"], keep='first', inplace=True)\n",
    "sell_trades.sort_values(by=[\"timestamp\"], ascending=False, inplace=True)\n",
    "sell_trades.drop_duplicates(subset=[\"btNo\"], keep='first', inplace=True)"
   ]
  },
  {
   "cell_type": "code",
   "execution_count": 21,
   "metadata": {},
   "outputs": [
    {
     "name": "stdout",
     "output_type": "stream",
     "text": [
      "3492 6553 4522\n"
     ]
    }
   ],
   "source": [
    "print(len(buy_trades), len(sell_trades), len(adv))"
   ]
  },
  {
   "cell_type": "code",
   "execution_count": 25,
   "metadata": {},
   "outputs": [],
   "source": [
    "bt = pd.merge(buy_trades, adv, how=\"left\", left_on=\"advertiseruserNo\", right_on=\"userNo\")\n",
    "st = pd.merge(sell_trades, adv, how=\"left\", left_on=\"advertiseruserNo\", right_on=\"userNo\") "
   ]
  },
  {
   "cell_type": "code",
   "execution_count": 26,
   "metadata": {},
   "outputs": [
    {
     "name": "stdout",
     "output_type": "stream",
     "text": [
      "3492 6553\n"
     ]
    }
   ],
   "source": [
    "print(len(bt), len(st))"
   ]
  },
  {
   "cell_type": "code",
   "execution_count": 30,
   "metadata": {},
   "outputs": [],
   "source": [
    "bt[\"commissionRateByMaxPercent\"] = bt[\"commissionRate\"]*100/bt[\"maxSingleTransQuantity\"]\n",
    "bt[\"commissionRateByMinPercent\"] = bt[\"commissionRate\"]*100/bt[\"minSingleTransQuantity\"]\n",
    "st[\"commissionRateByMaxPercent\"] = st[\"commissionRate\"]*100/st[\"maxSingleTransQuantity\"]\n",
    "st[\"commissionRateByMinPercent\"] = st[\"commissionRate\"]*100/st[\"minSingleTransQuantity\"]"
   ]
  },
  {
   "cell_type": "code",
   "execution_count": 32,
   "metadata": {},
   "outputs": [],
   "source": [
    "pos_bins = [-0.01, 0.01, 0.1, 0.5, 0.75, 0.80, 0.85, 0.90, 0.91, 0.92, 0.93, 0.94, 0.95, 0.96, 0.97, 0.98, 0.99, 1.00]\n",
    "bin_labels = [0, 0.01, 0.1, 0.5, 0.75, 0.80, 0.85, 0.90, 0.91, 0.92, 0.93, 0.94, 0.95, 0.96, 0.97, 0.98, 0.99]"
   ]
  },
  {
   "cell_type": "code",
   "execution_count": 34,
   "metadata": {},
   "outputs": [],
   "source": [
    "bt['pos_bin'] = pd.cut(bt['positiveRate'], pos_bins)\n",
    "bt['neg_bin'] = pd.cut(bt['negativeRate'], pos_bins)\n",
    "bt['pos_bin_label'] = pd.cut(bt['positiveRate'], pos_bins, labels=bin_labels)\n",
    "bt['neg_bin_label'] = pd.cut(bt['negativeRate'], pos_bins, labels=bin_labels)"
   ]
  },
  {
   "cell_type": "code",
   "execution_count": 35,
   "metadata": {},
   "outputs": [],
   "source": [
    "st['pos_bin'] = pd.cut(st['positiveRate'], pos_bins)\n",
    "st['neg_bin'] = pd.cut(st['negativeRate'], pos_bins)\n",
    "st['pos_bin_label'] = pd.cut(st['positiveRate'], pos_bins, labels=bin_labels)\n",
    "st['neg_bin_label'] = pd.cut(st['negativeRate'], pos_bins, labels=bin_labels)"
   ]
  },
  {
   "cell_type": "code",
   "execution_count": 37,
   "metadata": {},
   "outputs": [],
   "source": [
    "asset = st[[\"asset\", \"commissionRateByMaxPercent\", \"commissionRateByMaxPercent\"]].\\\n",
    "    groupby([\"asset\"]).mean()\n",
    "asset.to_csv(\"csv/commission_by_asset.csv\")"
   ]
  },
  {
   "cell_type": "code",
   "execution_count": 40,
   "metadata": {},
   "outputs": [
    {
     "name": "stderr",
     "output_type": "stream",
     "text": [
      "/var/folders/s7/cbvrkwmd5vj_3ymczzxpsc940000gn/T/ipykernel_23776/2870190941.py:1: FutureWarning: The default value of numeric_only in DataFrameGroupBy.mean is deprecated. In a future version, numeric_only will default to False. Either specify numeric_only or select only columns which should be valid for the function.\n",
      "  pos = st[[\"pos_bin\", \"pos_bin_label\", \"commissionRateByMaxPercent\", \"commissionRateByMaxPercent\"]].\\\n",
      "/var/folders/s7/cbvrkwmd5vj_3ymczzxpsc940000gn/T/ipykernel_23776/2870190941.py:5: FutureWarning: The default value of numeric_only in DataFrameGroupBy.mean is deprecated. In a future version, numeric_only will default to False. Either specify numeric_only or select only columns which should be valid for the function.\n",
      "  neg = st[[\"neg_bin\", \"neg_bin_label\", \"commissionRateByMaxPercent\", \"commissionRateByMaxPercent\"]].\\\n"
     ]
    }
   ],
   "source": [
    "pos = st[[\"pos_bin\", \"pos_bin_label\", \"commissionRateByMaxPercent\", \"commissionRateByMaxPercent\"]].\\\n",
    "    groupby([\"pos_bin\"]).mean()\n",
    "pos.to_csv(\"csv/commission_by_positive.csv\")\n",
    "\n",
    "neg = st[[\"neg_bin\", \"neg_bin_label\", \"commissionRateByMaxPercent\", \"commissionRateByMaxPercent\"]].\\\n",
    "    groupby([\"neg_bin\"]).mean()\n",
    "neg.to_csv(\"csv/commission_by_negative.csv\")"
   ]
  }
 ],
 "metadata": {
  "kernelspec": {
   "display_name": "Python 3.9.15 ('crypto')",
   "language": "python",
   "name": "python3"
  },
  "language_info": {
   "codemirror_mode": {
    "name": "ipython",
    "version": 3
   },
   "file_extension": ".py",
   "mimetype": "text/x-python",
   "name": "python",
   "nbconvert_exporter": "python",
   "pygments_lexer": "ipython3",
   "version": "3.9.15"
  },
  "orig_nbformat": 4,
  "vscode": {
   "interpreter": {
    "hash": "a899561b007cada81879fea1f8a69be36f8d63c6bc7403b37308073809a1efce"
   }
  }
 },
 "nbformat": 4,
 "nbformat_minor": 2
}
