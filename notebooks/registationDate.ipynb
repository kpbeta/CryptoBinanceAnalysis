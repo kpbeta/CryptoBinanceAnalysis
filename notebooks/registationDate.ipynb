{
 "cells": [
  {
   "cell_type": "code",
   "execution_count": 65,
   "metadata": {},
   "outputs": [],
   "source": [
    "import pandas as pd\n",
    "import json\n",
    "import datetime"
   ]
  },
  {
   "cell_type": "code",
   "execution_count": 76,
   "metadata": {},
   "outputs": [],
   "source": [
    "buy_trades = pd.read_json('data/buy_trades_dec1.json', lines=True,)\n",
    "sell_trades = pd.read_json('data/sell_trades_dec1.json', lines=True)"
   ]
  },
  {
   "cell_type": "code",
   "execution_count": 84,
   "metadata": {},
   "outputs": [],
   "source": [
    "advertisers = pd.read_json('data/advertisers_dec1.json', lines=True)"
   ]
  },
  {
   "cell_type": "code",
   "execution_count": 113,
   "metadata": {},
   "outputs": [],
   "source": [
    "df = pd.concat(\n",
    "    [pd.json_normalize(advertisers[\"userDetailVo\"], sep=\"_\", max_level=None), advertisers[\"timestamp\"]],\n",
    "    axis=1)"
   ]
  },
  {
   "cell_type": "code",
   "execution_count": 127,
   "metadata": {},
   "outputs": [],
   "source": [
    "df.drop_duplicates(subset='userNo', keep='first', inplace=True); # unique Users"
   ]
  },
  {
   "cell_type": "code",
   "execution_count": 190,
   "metadata": {},
   "outputs": [],
   "source": [
    "df['regisDate'] = (df[\"timestamp\"]-pd.to_timedelta(df['userStatsRet_registerDays'], unit='d')).dt.normalize() # get date\n",
    "df['firstOrderDate'] = (df[\"timestamp\"] - pd.to_timedelta(df['userStatsRet_firstOrderDays'], unit='d')).dt.normalize()"
   ]
  },
  {
   "cell_type": "code",
   "execution_count": 191,
   "metadata": {},
   "outputs": [],
   "source": [
    "registration = df.sort_values(by=[\"regisDate\"], ascending=True, inplace=False);\n",
    "firstOrder = df.sort_values(by=[\"firstOrderDate\"], ascending=True, inplace=False);"
   ]
  },
  {
   "cell_type": "code",
   "execution_count": 192,
   "metadata": {},
   "outputs": [],
   "source": [
    "reg = registration[[\"regisDate\"]]\n",
    "fo = firstOrder[[\"firstOrderDate\"]]"
   ]
  },
  {
   "cell_type": "code",
   "execution_count": 193,
   "metadata": {},
   "outputs": [
    {
     "name": "stdout",
     "output_type": "stream",
     "text": [
      "None\n"
     ]
    }
   ],
   "source": [
    "registration_csv = pd.DataFrame(reg.value_counts(normalize=False)).sort_values(by=[\"regisDate\"]).\\\n",
    "    to_csv(\"csv/registration_dates_count.csv\")\n",
    "first_order_csv = pd.DataFrame(fo.value_counts()).sort_values(by=[\"firstOrderDate\"]).to_csv(\n",
    "    \"csv/first_order_date_counts.csv\"\n",
    ")\n"
   ]
  },
  {
   "cell_type": "code",
   "execution_count": 158,
   "metadata": {},
   "outputs": [
    {
     "name": "stdout",
     "output_type": "stream",
     "text": [
      "            userNo  nickName  userGrade  margin  marginUnit  decimalScale  \\\n",
      "regisDate                                                                   \n",
      "2017-07-14       1         1          1       1           0             0   \n",
      "2017-07-28       1         1          1       1           1             0   \n",
      "2017-08-11       1         1          1       1           0             0   \n",
      "2017-08-13       2         2          1       1           1             0   \n",
      "2017-08-23       1         1          1       1           0             0   \n",
      "...            ...       ...        ...     ...         ...           ...   \n",
      "2022-11-20       1         1          1       1           0             0   \n",
      "2022-11-21       3         3          1       1           0             0   \n",
      "2022-11-22       1         1          1       1           0             0   \n",
      "2022-11-24       1         1          1       1           0             0   \n",
      "2022-11-25       1         1          1       1           0             0   \n",
      "\n",
      "            orderCount  monthOrderCount  monthFinishRate  advConfirmTime  ...  \\\n",
      "regisDate                                                                 ...   \n",
      "2017-07-14           1                1                1               1  ...   \n",
      "2017-07-28           1                1                1               1  ...   \n",
      "2017-08-11           1                1                1               1  ...   \n",
      "2017-08-13           1                2                1               1  ...   \n",
      "2017-08-23           1                1                1               1  ...   \n",
      "...                ...              ...              ...             ...  ...   \n",
      "2022-11-20           1                1                1               1  ...   \n",
      "2022-11-21           1                3                1               1  ...   \n",
      "2022-11-22           1                1                1               1  ...   \n",
      "2022-11-24           1                1                1               1  ...   \n",
      "2022-11-25           1                1                1               1  ...   \n",
      "\n",
      "            userStatsRet_completedSellOrderTotalBtcAmount  \\\n",
      "regisDate                                                   \n",
      "2017-07-14                                              1   \n",
      "2017-07-28                                              1   \n",
      "2017-08-11                                              1   \n",
      "2017-08-13                                              2   \n",
      "2017-08-23                                              1   \n",
      "...                                                   ...   \n",
      "2022-11-20                                              1   \n",
      "2022-11-21                                              3   \n",
      "2022-11-22                                              1   \n",
      "2022-11-24                                              1   \n",
      "2022-11-25                                              1   \n",
      "\n",
      "            userStatsRet_completedOrderTotalBtcAmount  \\\n",
      "regisDate                                               \n",
      "2017-07-14                                          1   \n",
      "2017-07-28                                          1   \n",
      "2017-08-11                                          1   \n",
      "2017-08-13                                          2   \n",
      "2017-08-23                                          1   \n",
      "...                                               ...   \n",
      "2022-11-20                                          1   \n",
      "2022-11-21                                          3   \n",
      "2022-11-22                                          1   \n",
      "2022-11-24                                          1   \n",
      "2022-11-25                                          1   \n",
      "\n",
      "            userStatsRet_counterpartyCount  userKycRet_kycType  \\\n",
      "regisDate                                                        \n",
      "2017-07-14                               1                   1   \n",
      "2017-07-28                               1                   1   \n",
      "2017-08-11                               1                   1   \n",
      "2017-08-13                               2                   1   \n",
      "2017-08-23                               1                   1   \n",
      "...                                    ...                 ...   \n",
      "2022-11-20                               1                   1   \n",
      "2022-11-21                               3                   1   \n",
      "2022-11-22                               1                   1   \n",
      "2022-11-24                               1                   1   \n",
      "2022-11-25                               1                   1   \n",
      "\n",
      "            userKycRet_addressStatus  lastActiveTime_$numberLong  \\\n",
      "regisDate                                                          \n",
      "2017-07-14                         0                           0   \n",
      "2017-07-28                         1                           0   \n",
      "2017-08-11                         1                           0   \n",
      "2017-08-13                         1                           0   \n",
      "2017-08-23                         1                           0   \n",
      "...                              ...                         ...   \n",
      "2022-11-20                         1                           0   \n",
      "2022-11-21                         0                           0   \n",
      "2022-11-22                         0                           0   \n",
      "2022-11-24                         0                           0   \n",
      "2022-11-25                         0                           0   \n",
      "\n",
      "            proMerchant_merchantLogo  proMerchant_merchantDescription  \\\n",
      "regisDate                                                               \n",
      "2017-07-14                         0                                0   \n",
      "2017-07-28                         0                                0   \n",
      "2017-08-11                         0                                0   \n",
      "2017-08-13                         0                                0   \n",
      "2017-08-23                         0                                0   \n",
      "...                              ...                              ...   \n",
      "2022-11-20                         0                                0   \n",
      "2022-11-21                         0                                0   \n",
      "2022-11-22                         0                                0   \n",
      "2022-11-24                         0                                0   \n",
      "2022-11-25                         0                                0   \n",
      "\n",
      "            timestamp  firstOrderDate  \n",
      "regisDate                              \n",
      "2017-07-14          1               1  \n",
      "2017-07-28          1               1  \n",
      "2017-08-11          1               1  \n",
      "2017-08-13          2               2  \n",
      "2017-08-23          1               1  \n",
      "...               ...             ...  \n",
      "2022-11-20          1               1  \n",
      "2022-11-21          2               3  \n",
      "2022-11-22          1               0  \n",
      "2022-11-24          1               0  \n",
      "2022-11-25          1               1  \n",
      "\n",
      "[1340 rows x 58 columns]\n"
     ]
    }
   ],
   "source": [
    "# n = registration.groupby(\"regisDate\").nunique()\n",
    "# print(n)\n"
   ]
  },
  {
   "cell_type": "code",
   "execution_count": 154,
   "metadata": {},
   "outputs": [
    {
     "name": "stdout",
     "output_type": "stream",
     "text": [
      "4420    2017-07-14\n",
      "3023    2017-07-28\n",
      "15837   2017-08-11\n",
      "4195    2017-08-13\n",
      "27763   2017-08-13\n",
      "           ...    \n",
      "27166   2022-11-21\n",
      "29002   2022-11-21\n",
      "25395   2022-11-22\n",
      "22310   2022-11-24\n",
      "27135   2022-11-25\n",
      "Name: regisDate, Length: 4522, dtype: datetime64[ns]\n",
      "4425    2020-01-10\n",
      "3023    2020-02-12\n",
      "4102    2020-02-17\n",
      "6314    2020-03-05\n",
      "4201    2020-03-10\n",
      "           ...    \n",
      "25630          NaT\n",
      "8957           NaT\n",
      "22177          NaT\n",
      "25395          NaT\n",
      "22310          NaT\n",
      "Name: firstOrderDate, Length: 4522, dtype: datetime64[ns]\n"
     ]
    }
   ],
   "source": [
    "# print(registration[\"regisDate\"])\n",
    "# print(firstOrder[\"firstOrderDate\"])"
   ]
  },
  {
   "cell_type": "code",
   "execution_count": 115,
   "metadata": {},
   "outputs": [
    {
     "ename": "TypeError",
     "evalue": "data type 'Timestamp' not understood",
     "output_type": "error",
     "traceback": [
      "\u001b[0;31m---------------------------------------------------------------------------\u001b[0m",
      "\u001b[0;31mTypeError\u001b[0m                                 Traceback (most recent call last)",
      "Cell \u001b[0;32mIn[115], line 1\u001b[0m\n\u001b[0;32m----> 1\u001b[0m df \u001b[39m=\u001b[39m df\u001b[39m.\u001b[39;49mastype({\u001b[39m\"\u001b[39;49m\u001b[39mtimestamp\u001b[39;49m\u001b[39m\"\u001b[39;49m: \u001b[39m\"\u001b[39;49m\u001b[39mTimestamp\u001b[39;49m\u001b[39m\"\u001b[39;49m ,\u001b[39m\"\u001b[39;49m\u001b[39muserStatsRet_registerDays\u001b[39;49m\u001b[39m\"\u001b[39;49m: \u001b[39m'\u001b[39;49m\u001b[39mInt64\u001b[39;49m\u001b[39m'\u001b[39;49m, \u001b[39m\"\u001b[39;49m\u001b[39muserStatsRet_firstOrderDays\u001b[39;49m\u001b[39m\"\u001b[39;49m: \u001b[39m\"\u001b[39;49m\u001b[39mInt64\u001b[39;49m\u001b[39m\"\u001b[39;49m})\n",
      "File \u001b[0;32m~/MyApplications/miniconda3/envs/crypto/lib/python3.9/site-packages/pandas/core/generic.py:6226\u001b[0m, in \u001b[0;36mNDFrame.astype\u001b[0;34m(self, dtype, copy, errors)\u001b[0m\n\u001b[1;32m   6224\u001b[0m             res_col \u001b[39m=\u001b[39m col\u001b[39m.\u001b[39mcopy() \u001b[39mif\u001b[39;00m copy \u001b[39melse\u001b[39;00m col\n\u001b[1;32m   6225\u001b[0m         \u001b[39melse\u001b[39;00m:\n\u001b[0;32m-> 6226\u001b[0m             res_col \u001b[39m=\u001b[39m col\u001b[39m.\u001b[39;49mastype(dtype\u001b[39m=\u001b[39;49mcdt, copy\u001b[39m=\u001b[39;49mcopy, errors\u001b[39m=\u001b[39;49merrors)\n\u001b[1;32m   6227\u001b[0m         results\u001b[39m.\u001b[39mappend(res_col)\n\u001b[1;32m   6229\u001b[0m \u001b[39melif\u001b[39;00m is_extension_array_dtype(dtype) \u001b[39mand\u001b[39;00m \u001b[39mself\u001b[39m\u001b[39m.\u001b[39mndim \u001b[39m>\u001b[39m \u001b[39m1\u001b[39m:\n\u001b[1;32m   6230\u001b[0m     \u001b[39m# GH 18099/22869: columnwise conversion to extension dtype\u001b[39;00m\n\u001b[1;32m   6231\u001b[0m     \u001b[39m# GH 24704: use iloc to handle duplicate column names\u001b[39;00m\n\u001b[1;32m   6232\u001b[0m     \u001b[39m# TODO(EA2D): special case not needed with 2D EAs\u001b[39;00m\n",
      "File \u001b[0;32m~/MyApplications/miniconda3/envs/crypto/lib/python3.9/site-packages/pandas/core/generic.py:6240\u001b[0m, in \u001b[0;36mNDFrame.astype\u001b[0;34m(self, dtype, copy, errors)\u001b[0m\n\u001b[1;32m   6233\u001b[0m     results \u001b[39m=\u001b[39m [\n\u001b[1;32m   6234\u001b[0m         \u001b[39mself\u001b[39m\u001b[39m.\u001b[39miloc[:, i]\u001b[39m.\u001b[39mastype(dtype, copy\u001b[39m=\u001b[39mcopy)\n\u001b[1;32m   6235\u001b[0m         \u001b[39mfor\u001b[39;00m i \u001b[39min\u001b[39;00m \u001b[39mrange\u001b[39m(\u001b[39mlen\u001b[39m(\u001b[39mself\u001b[39m\u001b[39m.\u001b[39mcolumns))\n\u001b[1;32m   6236\u001b[0m     ]\n\u001b[1;32m   6238\u001b[0m \u001b[39melse\u001b[39;00m:\n\u001b[1;32m   6239\u001b[0m     \u001b[39m# else, only a single dtype is given\u001b[39;00m\n\u001b[0;32m-> 6240\u001b[0m     new_data \u001b[39m=\u001b[39m \u001b[39mself\u001b[39;49m\u001b[39m.\u001b[39;49m_mgr\u001b[39m.\u001b[39;49mastype(dtype\u001b[39m=\u001b[39;49mdtype, copy\u001b[39m=\u001b[39;49mcopy, errors\u001b[39m=\u001b[39;49merrors)\n\u001b[1;32m   6241\u001b[0m     \u001b[39mreturn\u001b[39;00m \u001b[39mself\u001b[39m\u001b[39m.\u001b[39m_constructor(new_data)\u001b[39m.\u001b[39m__finalize__(\u001b[39mself\u001b[39m, method\u001b[39m=\u001b[39m\u001b[39m\"\u001b[39m\u001b[39mastype\u001b[39m\u001b[39m\"\u001b[39m)\n\u001b[1;32m   6243\u001b[0m \u001b[39m# GH 33113: handle empty frame or series\u001b[39;00m\n",
      "File \u001b[0;32m~/MyApplications/miniconda3/envs/crypto/lib/python3.9/site-packages/pandas/core/internals/managers.py:450\u001b[0m, in \u001b[0;36mBaseBlockManager.astype\u001b[0;34m(self, dtype, copy, errors)\u001b[0m\n\u001b[1;32m    449\u001b[0m \u001b[39mdef\u001b[39;00m \u001b[39mastype\u001b[39m(\u001b[39mself\u001b[39m: T, dtype, copy: \u001b[39mbool\u001b[39m \u001b[39m=\u001b[39m \u001b[39mFalse\u001b[39;00m, errors: \u001b[39mstr\u001b[39m \u001b[39m=\u001b[39m \u001b[39m\"\u001b[39m\u001b[39mraise\u001b[39m\u001b[39m\"\u001b[39m) \u001b[39m-\u001b[39m\u001b[39m>\u001b[39m T:\n\u001b[0;32m--> 450\u001b[0m     \u001b[39mreturn\u001b[39;00m \u001b[39mself\u001b[39;49m\u001b[39m.\u001b[39;49mapply(\u001b[39m\"\u001b[39;49m\u001b[39mastype\u001b[39;49m\u001b[39m\"\u001b[39;49m, dtype\u001b[39m=\u001b[39;49mdtype, copy\u001b[39m=\u001b[39;49mcopy, errors\u001b[39m=\u001b[39;49merrors)\n",
      "File \u001b[0;32m~/MyApplications/miniconda3/envs/crypto/lib/python3.9/site-packages/pandas/core/internals/managers.py:352\u001b[0m, in \u001b[0;36mBaseBlockManager.apply\u001b[0;34m(self, f, align_keys, ignore_failures, **kwargs)\u001b[0m\n\u001b[1;32m    350\u001b[0m         applied \u001b[39m=\u001b[39m b\u001b[39m.\u001b[39mapply(f, \u001b[39m*\u001b[39m\u001b[39m*\u001b[39mkwargs)\n\u001b[1;32m    351\u001b[0m     \u001b[39melse\u001b[39;00m:\n\u001b[0;32m--> 352\u001b[0m         applied \u001b[39m=\u001b[39m \u001b[39mgetattr\u001b[39;49m(b, f)(\u001b[39m*\u001b[39;49m\u001b[39m*\u001b[39;49mkwargs)\n\u001b[1;32m    353\u001b[0m \u001b[39mexcept\u001b[39;00m (\u001b[39mTypeError\u001b[39;00m, \u001b[39mNotImplementedError\u001b[39;00m):\n\u001b[1;32m    354\u001b[0m     \u001b[39mif\u001b[39;00m \u001b[39mnot\u001b[39;00m ignore_failures:\n",
      "File \u001b[0;32m~/MyApplications/miniconda3/envs/crypto/lib/python3.9/site-packages/pandas/core/internals/blocks.py:526\u001b[0m, in \u001b[0;36mBlock.astype\u001b[0;34m(self, dtype, copy, errors)\u001b[0m\n\u001b[1;32m    508\u001b[0m \u001b[39m\"\"\"\u001b[39;00m\n\u001b[1;32m    509\u001b[0m \u001b[39mCoerce to the new dtype.\u001b[39;00m\n\u001b[1;32m    510\u001b[0m \n\u001b[0;32m   (...)\u001b[0m\n\u001b[1;32m    522\u001b[0m \u001b[39mBlock\u001b[39;00m\n\u001b[1;32m    523\u001b[0m \u001b[39m\"\"\"\u001b[39;00m\n\u001b[1;32m    524\u001b[0m values \u001b[39m=\u001b[39m \u001b[39mself\u001b[39m\u001b[39m.\u001b[39mvalues\n\u001b[0;32m--> 526\u001b[0m new_values \u001b[39m=\u001b[39m astype_array_safe(values, dtype, copy\u001b[39m=\u001b[39;49mcopy, errors\u001b[39m=\u001b[39;49merrors)\n\u001b[1;32m    528\u001b[0m new_values \u001b[39m=\u001b[39m maybe_coerce_values(new_values)\n\u001b[1;32m    529\u001b[0m newb \u001b[39m=\u001b[39m \u001b[39mself\u001b[39m\u001b[39m.\u001b[39mmake_block(new_values)\n",
      "File \u001b[0;32m~/MyApplications/miniconda3/envs/crypto/lib/python3.9/site-packages/pandas/core/dtypes/astype.py:279\u001b[0m, in \u001b[0;36mastype_array_safe\u001b[0;34m(values, dtype, copy, errors)\u001b[0m\n\u001b[1;32m    273\u001b[0m     msg \u001b[39m=\u001b[39m (\n\u001b[1;32m    274\u001b[0m         \u001b[39mf\u001b[39m\u001b[39m\"\u001b[39m\u001b[39mExpected an instance of \u001b[39m\u001b[39m{\u001b[39;00mdtype\u001b[39m.\u001b[39m\u001b[39m__name__\u001b[39m\u001b[39m}\u001b[39;00m\u001b[39m, \u001b[39m\u001b[39m\"\u001b[39m\n\u001b[1;32m    275\u001b[0m         \u001b[39m\"\u001b[39m\u001b[39mbut got the class instead. Try instantiating \u001b[39m\u001b[39m'\u001b[39m\u001b[39mdtype\u001b[39m\u001b[39m'\u001b[39m\u001b[39m.\u001b[39m\u001b[39m\"\u001b[39m\n\u001b[1;32m    276\u001b[0m     )\n\u001b[1;32m    277\u001b[0m     \u001b[39mraise\u001b[39;00m \u001b[39mTypeError\u001b[39;00m(msg)\n\u001b[0;32m--> 279\u001b[0m dtype \u001b[39m=\u001b[39m pandas_dtype(dtype)\n\u001b[1;32m    280\u001b[0m \u001b[39mif\u001b[39;00m \u001b[39misinstance\u001b[39m(dtype, PandasDtype):\n\u001b[1;32m    281\u001b[0m     \u001b[39m# Ensure we don't end up with a PandasArray\u001b[39;00m\n\u001b[1;32m    282\u001b[0m     dtype \u001b[39m=\u001b[39m dtype\u001b[39m.\u001b[39mnumpy_dtype\n",
      "File \u001b[0;32m~/MyApplications/miniconda3/envs/crypto/lib/python3.9/site-packages/pandas/core/dtypes/common.py:1781\u001b[0m, in \u001b[0;36mpandas_dtype\u001b[0;34m(dtype)\u001b[0m\n\u001b[1;32m   1778\u001b[0m \u001b[39m# try a numpy dtype\u001b[39;00m\n\u001b[1;32m   1779\u001b[0m \u001b[39m# raise a consistent TypeError if failed\u001b[39;00m\n\u001b[1;32m   1780\u001b[0m \u001b[39mtry\u001b[39;00m:\n\u001b[0;32m-> 1781\u001b[0m     npdtype \u001b[39m=\u001b[39m np\u001b[39m.\u001b[39;49mdtype(dtype)\n\u001b[1;32m   1782\u001b[0m \u001b[39mexcept\u001b[39;00m \u001b[39mSyntaxError\u001b[39;00m \u001b[39mas\u001b[39;00m err:\n\u001b[1;32m   1783\u001b[0m     \u001b[39m# np.dtype uses `eval` which can raise SyntaxError\u001b[39;00m\n\u001b[1;32m   1784\u001b[0m     \u001b[39mraise\u001b[39;00m \u001b[39mTypeError\u001b[39;00m(\u001b[39mf\u001b[39m\u001b[39m\"\u001b[39m\u001b[39mdata type \u001b[39m\u001b[39m'\u001b[39m\u001b[39m{\u001b[39;00mdtype\u001b[39m}\u001b[39;00m\u001b[39m'\u001b[39m\u001b[39m not understood\u001b[39m\u001b[39m\"\u001b[39m) \u001b[39mfrom\u001b[39;00m \u001b[39merr\u001b[39;00m\n",
      "\u001b[0;31mTypeError\u001b[0m: data type 'Timestamp' not understood"
     ]
    }
   ],
   "source": [
    "df = df.astype({\"timestamp\": \"Timestamp\" ,\"userStatsRet_registerDays\": 'Int64', \"userStatsRet_firstOrderDays\": \"Int64\"})"
   ]
  },
  {
   "cell_type": "code",
   "execution_count": 71,
   "metadata": {},
   "outputs": [],
   "source": [
    "def getDate(timestamp, daysToSubtract):\n",
    "    if daysToSubtract is not None:\n",
    "        return int(timestamp) - (int(daysToSubtract)*3600*24)\n",
    "    return 0"
   ]
  },
  {
   "cell_type": "code",
   "execution_count": 72,
   "metadata": {},
   "outputs": [
    {
     "ename": "TypeError",
     "evalue": "Addition/subtraction of integers and integer-arrays with DatetimeArray is no longer supported.  Instead of adding/subtracting `n`, use `n * obj.freq`",
     "output_type": "error",
     "traceback": [
      "\u001b[0;31m---------------------------------------------------------------------------\u001b[0m",
      "\u001b[0;31mTypeError\u001b[0m                                 Traceback (most recent call last)",
      "Cell \u001b[0;32mIn[72], line 1\u001b[0m\n\u001b[0;32m----> 1\u001b[0m df[\u001b[39m\"\u001b[39m\u001b[39mregisTimestamp\u001b[39m\u001b[39m\"\u001b[39m] \u001b[39m=\u001b[39m df[\u001b[39m\"\u001b[39;49m\u001b[39mtimestamp\u001b[39;49m\u001b[39m\"\u001b[39;49m] \u001b[39m-\u001b[39;49m df[\u001b[39m\"\u001b[39;49m\u001b[39muserStatsRet_registerDays\u001b[39;49m\u001b[39m\"\u001b[39;49m]\u001b[39m*\u001b[39;49m(\u001b[39m3600\u001b[39;49m\u001b[39m*\u001b[39;49m\u001b[39m24\u001b[39;49m\u001b[39m*\u001b[39;49m\u001b[39m1000\u001b[39;49m\u001b[39m*\u001b[39;49m\u001b[39m1000\u001b[39;49m)\n\u001b[1;32m      2\u001b[0m \u001b[39m# df[\"firstOrderTimestamp\"] = df[\"timestamp\"] - df[\"userStatsRet_firstOrderDays\"]*3600*24\u001b[39;00m\n\u001b[1;32m      3\u001b[0m df[\u001b[39m\"\u001b[39m\u001b[39mregisDT\u001b[39m\u001b[39m\"\u001b[39m] \u001b[39m=\u001b[39m pd\u001b[39m.\u001b[39mto_datetime(df[\u001b[39m\"\u001b[39m\u001b[39mregisTimestamp\u001b[39m\u001b[39m\"\u001b[39m], infer_datetime_format\u001b[39m=\u001b[39m\u001b[39mTrue\u001b[39;00m)\n",
      "File \u001b[0;32m~/MyApplications/miniconda3/envs/crypto/lib/python3.9/site-packages/pandas/core/ops/common.py:72\u001b[0m, in \u001b[0;36m_unpack_zerodim_and_defer.<locals>.new_method\u001b[0;34m(self, other)\u001b[0m\n\u001b[1;32m     68\u001b[0m             \u001b[39mreturn\u001b[39;00m \u001b[39mNotImplemented\u001b[39m\n\u001b[1;32m     70\u001b[0m other \u001b[39m=\u001b[39m item_from_zerodim(other)\n\u001b[0;32m---> 72\u001b[0m \u001b[39mreturn\u001b[39;00m method(\u001b[39mself\u001b[39;49m, other)\n",
      "File \u001b[0;32m~/MyApplications/miniconda3/envs/crypto/lib/python3.9/site-packages/pandas/core/arraylike.py:110\u001b[0m, in \u001b[0;36mOpsMixin.__sub__\u001b[0;34m(self, other)\u001b[0m\n\u001b[1;32m    108\u001b[0m \u001b[39m@unpack_zerodim_and_defer\u001b[39m(\u001b[39m\"\u001b[39m\u001b[39m__sub__\u001b[39m\u001b[39m\"\u001b[39m)\n\u001b[1;32m    109\u001b[0m \u001b[39mdef\u001b[39;00m \u001b[39m__sub__\u001b[39m(\u001b[39mself\u001b[39m, other):\n\u001b[0;32m--> 110\u001b[0m     \u001b[39mreturn\u001b[39;00m \u001b[39mself\u001b[39;49m\u001b[39m.\u001b[39;49m_arith_method(other, operator\u001b[39m.\u001b[39;49msub)\n",
      "File \u001b[0;32m~/MyApplications/miniconda3/envs/crypto/lib/python3.9/site-packages/pandas/core/series.py:6259\u001b[0m, in \u001b[0;36mSeries._arith_method\u001b[0;34m(self, other, op)\u001b[0m\n\u001b[1;32m   6257\u001b[0m \u001b[39mdef\u001b[39;00m \u001b[39m_arith_method\u001b[39m(\u001b[39mself\u001b[39m, other, op):\n\u001b[1;32m   6258\u001b[0m     \u001b[39mself\u001b[39m, other \u001b[39m=\u001b[39m ops\u001b[39m.\u001b[39malign_method_SERIES(\u001b[39mself\u001b[39m, other)\n\u001b[0;32m-> 6259\u001b[0m     \u001b[39mreturn\u001b[39;00m base\u001b[39m.\u001b[39;49mIndexOpsMixin\u001b[39m.\u001b[39;49m_arith_method(\u001b[39mself\u001b[39;49m, other, op)\n",
      "File \u001b[0;32m~/MyApplications/miniconda3/envs/crypto/lib/python3.9/site-packages/pandas/core/base.py:1325\u001b[0m, in \u001b[0;36mIndexOpsMixin._arith_method\u001b[0;34m(self, other, op)\u001b[0m\n\u001b[1;32m   1322\u001b[0m rvalues \u001b[39m=\u001b[39m ensure_wrapped_if_datetimelike(rvalues)\n\u001b[1;32m   1324\u001b[0m \u001b[39mwith\u001b[39;00m np\u001b[39m.\u001b[39merrstate(\u001b[39mall\u001b[39m\u001b[39m=\u001b[39m\u001b[39m\"\u001b[39m\u001b[39mignore\u001b[39m\u001b[39m\"\u001b[39m):\n\u001b[0;32m-> 1325\u001b[0m     result \u001b[39m=\u001b[39m ops\u001b[39m.\u001b[39;49marithmetic_op(lvalues, rvalues, op)\n\u001b[1;32m   1327\u001b[0m \u001b[39mreturn\u001b[39;00m \u001b[39mself\u001b[39m\u001b[39m.\u001b[39m_construct_result(result, name\u001b[39m=\u001b[39mres_name)\n",
      "File \u001b[0;32m~/MyApplications/miniconda3/envs/crypto/lib/python3.9/site-packages/pandas/core/ops/array_ops.py:218\u001b[0m, in \u001b[0;36marithmetic_op\u001b[0;34m(left, right, op)\u001b[0m\n\u001b[1;32m    205\u001b[0m \u001b[39m# NB: We assume that extract_array and ensure_wrapped_if_datetimelike\u001b[39;00m\n\u001b[1;32m    206\u001b[0m \u001b[39m#  have already been called on `left` and `right`,\u001b[39;00m\n\u001b[1;32m    207\u001b[0m \u001b[39m#  and `maybe_prepare_scalar_for_op` has already been called on `right`\u001b[39;00m\n\u001b[1;32m    208\u001b[0m \u001b[39m# We need to special-case datetime64/timedelta64 dtypes (e.g. because numpy\u001b[39;00m\n\u001b[1;32m    209\u001b[0m \u001b[39m# casts integer dtypes to timedelta64 when operating with timedelta64 - GH#22390)\u001b[39;00m\n\u001b[1;32m    211\u001b[0m \u001b[39mif\u001b[39;00m (\n\u001b[1;32m    212\u001b[0m     should_extension_dispatch(left, right)\n\u001b[1;32m    213\u001b[0m     \u001b[39mor\u001b[39;00m \u001b[39misinstance\u001b[39m(right, (Timedelta, BaseOffset, Timestamp))\n\u001b[0;32m   (...)\u001b[0m\n\u001b[1;32m    216\u001b[0m     \u001b[39m# Timedelta/Timestamp and other custom scalars are included in the check\u001b[39;00m\n\u001b[1;32m    217\u001b[0m     \u001b[39m# because numexpr will fail on it, see GH#31457\u001b[39;00m\n\u001b[0;32m--> 218\u001b[0m     res_values \u001b[39m=\u001b[39m op(left, right)\n\u001b[1;32m    219\u001b[0m \u001b[39melse\u001b[39;00m:\n\u001b[1;32m    220\u001b[0m     \u001b[39m# TODO we should handle EAs consistently and move this check before the if/else\u001b[39;00m\n\u001b[1;32m    221\u001b[0m     \u001b[39m# (https://github.com/pandas-dev/pandas/issues/41165)\u001b[39;00m\n\u001b[1;32m    222\u001b[0m     _bool_arith_check(op, left, right)\n",
      "File \u001b[0;32m~/MyApplications/miniconda3/envs/crypto/lib/python3.9/site-packages/pandas/core/ops/common.py:72\u001b[0m, in \u001b[0;36m_unpack_zerodim_and_defer.<locals>.new_method\u001b[0;34m(self, other)\u001b[0m\n\u001b[1;32m     68\u001b[0m             \u001b[39mreturn\u001b[39;00m \u001b[39mNotImplemented\u001b[39m\n\u001b[1;32m     70\u001b[0m other \u001b[39m=\u001b[39m item_from_zerodim(other)\n\u001b[0;32m---> 72\u001b[0m \u001b[39mreturn\u001b[39;00m method(\u001b[39mself\u001b[39;49m, other)\n",
      "File \u001b[0;32m~/MyApplications/miniconda3/envs/crypto/lib/python3.9/site-packages/pandas/core/arrays/datetimelike.py:1529\u001b[0m, in \u001b[0;36mDatetimeLikeArrayMixin.__sub__\u001b[0;34m(self, other)\u001b[0m\n\u001b[1;32m   1527\u001b[0m \u001b[39melif\u001b[39;00m is_integer_dtype(other_dtype):\n\u001b[1;32m   1528\u001b[0m     \u001b[39mif\u001b[39;00m \u001b[39mnot\u001b[39;00m is_period_dtype(\u001b[39mself\u001b[39m\u001b[39m.\u001b[39mdtype):\n\u001b[0;32m-> 1529\u001b[0m         \u001b[39mraise\u001b[39;00m integer_op_not_supported(\u001b[39mself\u001b[39m)\n\u001b[1;32m   1530\u001b[0m     result \u001b[39m=\u001b[39m cast(\u001b[39m\"\u001b[39m\u001b[39mPeriodArray\u001b[39m\u001b[39m\"\u001b[39m, \u001b[39mself\u001b[39m)\u001b[39m.\u001b[39m_addsub_int_array_or_scalar(\n\u001b[1;32m   1531\u001b[0m         other \u001b[39m*\u001b[39m \u001b[39mself\u001b[39m\u001b[39m.\u001b[39mfreq\u001b[39m.\u001b[39mn, operator\u001b[39m.\u001b[39msub\n\u001b[1;32m   1532\u001b[0m     )\n\u001b[1;32m   1533\u001b[0m \u001b[39melse\u001b[39;00m:\n\u001b[1;32m   1534\u001b[0m     \u001b[39m# Includes ExtensionArrays, float_dtype\u001b[39;00m\n",
      "\u001b[0;31mTypeError\u001b[0m: Addition/subtraction of integers and integer-arrays with DatetimeArray is no longer supported.  Instead of adding/subtracting `n`, use `n * obj.freq`"
     ]
    }
   ],
   "source": [
    "df[\"regisTimestamp\"] = df[\"timestamp\"] - df[\"userStatsRet_registerDays\"]*(3600*24*1000*1000)\n",
    "# df[\"firstOrderTimestamp\"] = df[\"timestamp\"] - df[\"userStatsRet_firstOrderDays\"]*3600*24\n",
    "df[\"regisDT\"] = pd.to_datetime(df[\"regisTimestamp\"], infer_datetime_format=True)"
   ]
  },
  {
   "cell_type": "code",
   "execution_count": null,
   "metadata": {},
   "outputs": [
    {
     "data": {
      "text/html": [
       "<div>\n",
       "<style scoped>\n",
       "    .dataframe tbody tr th:only-of-type {\n",
       "        vertical-align: middle;\n",
       "    }\n",
       "\n",
       "    .dataframe tbody tr th {\n",
       "        vertical-align: top;\n",
       "    }\n",
       "\n",
       "    .dataframe thead th {\n",
       "        text-align: right;\n",
       "    }\n",
       "</style>\n",
       "<table border=\"1\" class=\"dataframe\">\n",
       "  <thead>\n",
       "    <tr style=\"text-align: right;\">\n",
       "      <th></th>\n",
       "      <th>timestamp</th>\n",
       "      <th>regisTimestamp</th>\n",
       "      <th>regisDT</th>\n",
       "      <th>userStatsRet_registerDays</th>\n",
       "    </tr>\n",
       "  </thead>\n",
       "  <tbody>\n",
       "    <tr>\n",
       "      <th>241</th>\n",
       "      <td>1667606400000000000</td>\n",
       "      <td>1667449584000000000</td>\n",
       "      <td>2022-11-03 04:26:24.000</td>\n",
       "      <td>1815</td>\n",
       "    </tr>\n",
       "    <tr>\n",
       "      <th>269</th>\n",
       "      <td>1667606400000000000</td>\n",
       "      <td>1667450102400000000</td>\n",
       "      <td>2022-11-03 04:35:02.400</td>\n",
       "      <td>1809</td>\n",
       "    </tr>\n",
       "    <tr>\n",
       "      <th>201</th>\n",
       "      <td>1667606400000000000</td>\n",
       "      <td>1667450620800000000</td>\n",
       "      <td>2022-11-03 04:43:40.800</td>\n",
       "      <td>1803</td>\n",
       "    </tr>\n",
       "    <tr>\n",
       "      <th>227</th>\n",
       "      <td>1667606400000000000</td>\n",
       "      <td>1667450793600000000</td>\n",
       "      <td>2022-11-03 04:46:33.600</td>\n",
       "      <td>1801</td>\n",
       "    </tr>\n",
       "    <tr>\n",
       "      <th>238</th>\n",
       "      <td>1667606400000000000</td>\n",
       "      <td>1667450966400000000</td>\n",
       "      <td>2022-11-03 04:49:26.400</td>\n",
       "      <td>1799</td>\n",
       "    </tr>\n",
       "    <tr>\n",
       "      <th>...</th>\n",
       "      <td>...</td>\n",
       "      <td>...</td>\n",
       "      <td>...</td>\n",
       "      <td>...</td>\n",
       "    </tr>\n",
       "    <tr>\n",
       "      <th>29196</th>\n",
       "      <td>1669852800000000000</td>\n",
       "      <td>1669850208000000000</td>\n",
       "      <td>2022-11-30 23:16:48.000</td>\n",
       "      <td>30</td>\n",
       "    </tr>\n",
       "    <tr>\n",
       "      <th>29007</th>\n",
       "      <td>1669852800000000000</td>\n",
       "      <td>1669850208000000000</td>\n",
       "      <td>2022-11-30 23:16:48.000</td>\n",
       "      <td>30</td>\n",
       "    </tr>\n",
       "    <tr>\n",
       "      <th>28484</th>\n",
       "      <td>1669852800000000000</td>\n",
       "      <td>1669851158400000000</td>\n",
       "      <td>2022-11-30 23:32:38.400</td>\n",
       "      <td>19</td>\n",
       "    </tr>\n",
       "    <tr>\n",
       "      <th>29097</th>\n",
       "      <td>1669852800000000000</td>\n",
       "      <td>1669851417600000000</td>\n",
       "      <td>2022-11-30 23:36:57.600</td>\n",
       "      <td>16</td>\n",
       "    </tr>\n",
       "    <tr>\n",
       "      <th>29002</th>\n",
       "      <td>1669852800000000000</td>\n",
       "      <td>1669851936000000000</td>\n",
       "      <td>2022-11-30 23:45:36.000</td>\n",
       "      <td>10</td>\n",
       "    </tr>\n",
       "  </tbody>\n",
       "</table>\n",
       "<p>30164 rows × 4 columns</p>\n",
       "</div>"
      ],
      "text/plain": [
       "                 timestamp       regisTimestamp                 regisDT  \\\n",
       "241    1667606400000000000  1667449584000000000 2022-11-03 04:26:24.000   \n",
       "269    1667606400000000000  1667450102400000000 2022-11-03 04:35:02.400   \n",
       "201    1667606400000000000  1667450620800000000 2022-11-03 04:43:40.800   \n",
       "227    1667606400000000000  1667450793600000000 2022-11-03 04:46:33.600   \n",
       "238    1667606400000000000  1667450966400000000 2022-11-03 04:49:26.400   \n",
       "...                    ...                  ...                     ...   \n",
       "29196  1669852800000000000  1669850208000000000 2022-11-30 23:16:48.000   \n",
       "29007  1669852800000000000  1669850208000000000 2022-11-30 23:16:48.000   \n",
       "28484  1669852800000000000  1669851158400000000 2022-11-30 23:32:38.400   \n",
       "29097  1669852800000000000  1669851417600000000 2022-11-30 23:36:57.600   \n",
       "29002  1669852800000000000  1669851936000000000 2022-11-30 23:45:36.000   \n",
       "\n",
       "       userStatsRet_registerDays  \n",
       "241                         1815  \n",
       "269                         1809  \n",
       "201                         1803  \n",
       "227                         1801  \n",
       "238                         1799  \n",
       "...                          ...  \n",
       "29196                         30  \n",
       "29007                         30  \n",
       "28484                         19  \n",
       "29097                         16  \n",
       "29002                         10  \n",
       "\n",
       "[30164 rows x 4 columns]"
      ]
     },
     "execution_count": 64,
     "metadata": {},
     "output_type": "execute_result"
    }
   ],
   "source": [
    "df[[\"timestamp\", \"regisTimestamp\", \"regisDT\", \"userStatsRet_registerDays\"]].sort_values(by=[\"regisDT\"])"
   ]
  },
  {
   "cell_type": "code",
   "execution_count": null,
   "metadata": {},
   "outputs": [
    {
     "ename": "KeyError",
     "evalue": "'firstOrderTimestamp'",
     "output_type": "error",
     "traceback": [
      "\u001b[0;31m---------------------------------------------------------------------------\u001b[0m",
      "\u001b[0;31mKeyError\u001b[0m                                  Traceback (most recent call last)",
      "File \u001b[0;32m~/MyApplications/miniconda3/envs/crypto/lib/python3.9/site-packages/pandas/core/indexes/base.py:3803\u001b[0m, in \u001b[0;36mIndex.get_loc\u001b[0;34m(self, key, method, tolerance)\u001b[0m\n\u001b[1;32m   3802\u001b[0m \u001b[39mtry\u001b[39;00m:\n\u001b[0;32m-> 3803\u001b[0m     \u001b[39mreturn\u001b[39;00m \u001b[39mself\u001b[39;49m\u001b[39m.\u001b[39;49m_engine\u001b[39m.\u001b[39;49mget_loc(casted_key)\n\u001b[1;32m   3804\u001b[0m \u001b[39mexcept\u001b[39;00m \u001b[39mKeyError\u001b[39;00m \u001b[39mas\u001b[39;00m err:\n",
      "File \u001b[0;32m~/MyApplications/miniconda3/envs/crypto/lib/python3.9/site-packages/pandas/_libs/index.pyx:138\u001b[0m, in \u001b[0;36mpandas._libs.index.IndexEngine.get_loc\u001b[0;34m()\u001b[0m\n",
      "File \u001b[0;32m~/MyApplications/miniconda3/envs/crypto/lib/python3.9/site-packages/pandas/_libs/index.pyx:165\u001b[0m, in \u001b[0;36mpandas._libs.index.IndexEngine.get_loc\u001b[0;34m()\u001b[0m\n",
      "File \u001b[0;32mpandas/_libs/hashtable_class_helper.pxi:5745\u001b[0m, in \u001b[0;36mpandas._libs.hashtable.PyObjectHashTable.get_item\u001b[0;34m()\u001b[0m\n",
      "File \u001b[0;32mpandas/_libs/hashtable_class_helper.pxi:5753\u001b[0m, in \u001b[0;36mpandas._libs.hashtable.PyObjectHashTable.get_item\u001b[0;34m()\u001b[0m\n",
      "\u001b[0;31mKeyError\u001b[0m: 'firstOrderTimestamp'",
      "\nThe above exception was the direct cause of the following exception:\n",
      "\u001b[0;31mKeyError\u001b[0m                                  Traceback (most recent call last)",
      "Cell \u001b[0;32mIn[45], line 3\u001b[0m\n\u001b[1;32m      1\u001b[0m \u001b[39m# print(df[[\"regisTimestamp\", \"firstOrderTimestamp\"]]);\u001b[39;00m\n\u001b[1;32m      2\u001b[0m df[\u001b[39m\"\u001b[39m\u001b[39mregisDT\u001b[39m\u001b[39m\"\u001b[39m] \u001b[39m=\u001b[39m pd\u001b[39m.\u001b[39mto_datetime(df[\u001b[39m\"\u001b[39m\u001b[39mregisTimestamp\u001b[39m\u001b[39m\"\u001b[39m], infer_datetime_format\u001b[39m=\u001b[39m\u001b[39mTrue\u001b[39;00m)\n\u001b[0;32m----> 3\u001b[0m df[\u001b[39m\"\u001b[39m\u001b[39mfirstOrderDT\u001b[39m\u001b[39m\"\u001b[39m] \u001b[39m=\u001b[39m pd\u001b[39m.\u001b[39mto_datetime(df[\u001b[39m\"\u001b[39;49m\u001b[39mfirstOrderTimestamp\u001b[39;49m\u001b[39m\"\u001b[39;49m], infer_datetime_format\u001b[39m=\u001b[39m\u001b[39mTrue\u001b[39;00m)\n\u001b[1;32m      5\u001b[0m \u001b[39mprint\u001b[39m(df[[\u001b[39m\"\u001b[39m\u001b[39mregisDT\u001b[39m\u001b[39m\"\u001b[39m, \u001b[39m\"\u001b[39m\u001b[39muserStatsRet_registerDays\u001b[39m\u001b[39m\"\u001b[39m]]\u001b[39m.\u001b[39msort_values(by \u001b[39m=\u001b[39m[\u001b[39m\"\u001b[39m\u001b[39mregisDT\u001b[39m\u001b[39m\"\u001b[39m]))\n\u001b[1;32m      7\u001b[0m \u001b[39mprint\u001b[39m(df[\u001b[39m\"\u001b[39m\u001b[39mregisTimestamp\u001b[39m\u001b[39m\"\u001b[39m])\n",
      "File \u001b[0;32m~/MyApplications/miniconda3/envs/crypto/lib/python3.9/site-packages/pandas/core/frame.py:3805\u001b[0m, in \u001b[0;36mDataFrame.__getitem__\u001b[0;34m(self, key)\u001b[0m\n\u001b[1;32m   3803\u001b[0m \u001b[39mif\u001b[39;00m \u001b[39mself\u001b[39m\u001b[39m.\u001b[39mcolumns\u001b[39m.\u001b[39mnlevels \u001b[39m>\u001b[39m \u001b[39m1\u001b[39m:\n\u001b[1;32m   3804\u001b[0m     \u001b[39mreturn\u001b[39;00m \u001b[39mself\u001b[39m\u001b[39m.\u001b[39m_getitem_multilevel(key)\n\u001b[0;32m-> 3805\u001b[0m indexer \u001b[39m=\u001b[39m \u001b[39mself\u001b[39;49m\u001b[39m.\u001b[39;49mcolumns\u001b[39m.\u001b[39;49mget_loc(key)\n\u001b[1;32m   3806\u001b[0m \u001b[39mif\u001b[39;00m is_integer(indexer):\n\u001b[1;32m   3807\u001b[0m     indexer \u001b[39m=\u001b[39m [indexer]\n",
      "File \u001b[0;32m~/MyApplications/miniconda3/envs/crypto/lib/python3.9/site-packages/pandas/core/indexes/base.py:3805\u001b[0m, in \u001b[0;36mIndex.get_loc\u001b[0;34m(self, key, method, tolerance)\u001b[0m\n\u001b[1;32m   3803\u001b[0m     \u001b[39mreturn\u001b[39;00m \u001b[39mself\u001b[39m\u001b[39m.\u001b[39m_engine\u001b[39m.\u001b[39mget_loc(casted_key)\n\u001b[1;32m   3804\u001b[0m \u001b[39mexcept\u001b[39;00m \u001b[39mKeyError\u001b[39;00m \u001b[39mas\u001b[39;00m err:\n\u001b[0;32m-> 3805\u001b[0m     \u001b[39mraise\u001b[39;00m \u001b[39mKeyError\u001b[39;00m(key) \u001b[39mfrom\u001b[39;00m \u001b[39merr\u001b[39;00m\n\u001b[1;32m   3806\u001b[0m \u001b[39mexcept\u001b[39;00m \u001b[39mTypeError\u001b[39;00m:\n\u001b[1;32m   3807\u001b[0m     \u001b[39m# If we have a listlike key, _check_indexing_error will raise\u001b[39;00m\n\u001b[1;32m   3808\u001b[0m     \u001b[39m#  InvalidIndexError. Otherwise we fall through and re-raise\u001b[39;00m\n\u001b[1;32m   3809\u001b[0m     \u001b[39m#  the TypeError.\u001b[39;00m\n\u001b[1;32m   3810\u001b[0m     \u001b[39mself\u001b[39m\u001b[39m.\u001b[39m_check_indexing_error(key)\n",
      "\u001b[0;31mKeyError\u001b[0m: 'firstOrderTimestamp'"
     ]
    }
   ],
   "source": [
    "# print(df[[\"regisTimestamp\", \"firstOrderTimestamp\"]]);\n",
    "df[\"regisDT\"] = pd.to_datetime(df[\"regisTimestamp\"], infer_datetime_format=True)\n",
    "df[\"firstOrderDT\"] = pd.to_datetime(df[\"firstOrderTimestamp\"], infer_datetime_format=True)\n",
    "\n",
    "print(df[[\"regisDT\", \"userStatsRet_registerDays\"]].sort_values(by =[\"regisDT\"]))\n",
    "\n",
    "print(df[\"regisTimestamp\"])"
   ]
  }
 ],
 "metadata": {
  "kernelspec": {
   "display_name": "Python 3.9.15 ('crypto')",
   "language": "python",
   "name": "python3"
  },
  "language_info": {
   "codemirror_mode": {
    "name": "ipython",
    "version": 3
   },
   "file_extension": ".py",
   "mimetype": "text/x-python",
   "name": "python",
   "nbconvert_exporter": "python",
   "pygments_lexer": "ipython3",
   "version": "3.9.15"
  },
  "orig_nbformat": 4,
  "vscode": {
   "interpreter": {
    "hash": "a899561b007cada81879fea1f8a69be36f8d63c6bc7403b37308073809a1efce"
   }
  }
 },
 "nbformat": 4,
 "nbformat_minor": 2
}
