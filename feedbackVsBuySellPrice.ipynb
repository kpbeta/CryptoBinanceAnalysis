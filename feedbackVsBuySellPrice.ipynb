{
 "cells": [
  {
   "cell_type": "code",
   "execution_count": 1,
   "metadata": {},
   "outputs": [],
   "source": [
    "import pandas as pd\n",
    "advertisers = pd.read_json('data/advertisers_dec1.json', lines=True)"
   ]
  },
  {
   "cell_type": "code",
   "execution_count": 2,
   "metadata": {},
   "outputs": [],
   "source": [
    "buy_trades = pd.read_json('data/buy_trades_dec1.json', lines=True,)\n",
    "sell_trades = pd.read_json('data/sell_trades_dec1.json', lines=True)"
   ]
  },
  {
   "cell_type": "code",
   "execution_count": 3,
   "metadata": {},
   "outputs": [
    {
     "name": "stdout",
     "output_type": "stream",
     "text": [
      "13052 45809 30164\n"
     ]
    }
   ],
   "source": [
    "print(len(buy_trades), len(sell_trades), len(advertisers))"
   ]
  },
  {
   "cell_type": "code",
   "execution_count": 25,
   "metadata": {},
   "outputs": [],
   "source": [
    "adv = pd.concat(\n",
    "    [pd.json_normalize(advertisers[\"userDetailVo\"], sep=\"_\", max_level=None),\n",
    "    pd.json_normalize(advertisers[\"feedback\"], sep=\"_\", max_level=None)],\n",
    "    axis=1)\n",
    "adv[\"timestamp\"] = advertisers[\"timestamp\"]\n",
    "adv.sort_values(by=[\"timestamp\"], ascending=False, inplace=True)\n",
    "adv.drop_duplicates(subset='userNo', keep='first', inplace=True); # unique Users"
   ]
  },
  {
   "cell_type": "code",
   "execution_count": 26,
   "metadata": {},
   "outputs": [],
   "source": [
    "buy_trades.sort_values(by=[\"timestamp\"], ascending=False, inplace=True)\n",
    "buy_trades.drop_duplicates(subset=[\"advNo\"], keep='first', inplace=True)\n",
    "sell_trades.sort_values(by=[\"timestamp\"], ascending=False, inplace=True)\n",
    "sell_trades.drop_duplicates(subset=[\"advNo\"], keep='first', inplace=True)"
   ]
  },
  {
   "cell_type": "code",
   "execution_count": 54,
   "metadata": {},
   "outputs": [
    {
     "name": "stdout",
     "output_type": "stream",
     "text": [
      "3492 6553\n"
     ]
    }
   ],
   "source": [
    "print(len(buy_trades), len(sell_trades))"
   ]
  },
  {
   "cell_type": "code",
   "execution_count": 129,
   "metadata": {},
   "outputs": [],
   "source": [
    "import numpy as np\n",
    "import json\n",
    "\n",
    "bt = buy_trades[\"tradeMethods\"].to_list()\n",
    "bex = np.concatenate(bt)\n",
    "bdf = pd.json_normalize(bex)\n",
    "\n",
    "st = sell_trades[\"tradeMethods\"].to_list()\n",
    "sex = np.concatenate(st)\n",
    "sdf = pd.json_normalize(sex)\n"
   ]
  },
  {
   "cell_type": "code",
   "execution_count": 137,
   "metadata": {},
   "outputs": [],
   "source": [
    "bpay_count = bdf.groupby(\"identifier\").count()\n",
    "sm = bpay_count[\"tradeMethodName\"].sum()\n",
    "bpay_count[\"totalPayMethods\"] = sm\n",
    "bpay_count[\"percentage\"] = bpay_count[\"tradeMethodName\"]*100/sm\n",
    "bpay_count.rename({\"identifier\": \"Pay Method\", \"tradeMethodName\": \"Count\"}, axis = 1, inplace=True)\n",
    "bpay_count[[ \"Count\", \"percentage\", \"totalPayMethods\"]].to_csv(\"csv/trades/method_people_want_to_sell_using.csv\")\n"
   ]
  },
  {
   "cell_type": "code",
   "execution_count": 138,
   "metadata": {},
   "outputs": [],
   "source": [
    "spay_count = sdf.groupby(\"identifier\").count()\n",
    "sm = spay_count[\"tradeMethodName\"].sum()\n",
    "spay_count[\"totalPayMethods\"] = sm\n",
    "spay_count[\"percentage\"] = spay_count[\"tradeMethodName\"]*100/sm\n",
    "spay_count.rename({\"identifier\": \"Pay Method\", \"tradeMethodName\": \"Count\"}, axis = 1, inplace=True)\n",
    "spay_count[[ \"Count\", \"percentage\", \"totalPayMethods\"]].to_csv(\"csv/trades/method_people_want_to_buy_with.csv\")\n"
   ]
  },
  {
   "cell_type": "code",
   "execution_count": 139,
   "metadata": {},
   "outputs": [],
   "source": [
    "bpay_count = bdf.groupby(\"payType\").count()\n",
    "sm = bpay_count[\"tradeMethodName\"].sum()\n",
    "bpay_count[\"totalPayMethods\"] = sm\n",
    "bpay_count[\"percentage\"] = bpay_count[\"tradeMethodName\"]*100/sm\n",
    "bpay_count.rename({\"identifier\": \"Pay Type\", \"tradeMethodName\": \"Count\"}, axis = 1, inplace=True)\n",
    "bpay_count[[ \"Count\", \"percentage\", \"totalPayMethods\"]].to_csv(\"csv/trades/pay_type_people_want_to_sell_using.csv\")\n"
   ]
  }
 ],
 "metadata": {
  "kernelspec": {
   "display_name": "Python 3.9.15 ('crypto')",
   "language": "python",
   "name": "python3"
  },
  "language_info": {
   "codemirror_mode": {
    "name": "ipython",
    "version": 3
   },
   "file_extension": ".py",
   "mimetype": "text/x-python",
   "name": "python",
   "nbconvert_exporter": "python",
   "pygments_lexer": "ipython3",
   "version": "3.9.15"
  },
  "orig_nbformat": 4,
  "vscode": {
   "interpreter": {
    "hash": "a899561b007cada81879fea1f8a69be36f8d63c6bc7403b37308073809a1efce"
   }
  }
 },
 "nbformat": 4,
 "nbformat_minor": 2
}
